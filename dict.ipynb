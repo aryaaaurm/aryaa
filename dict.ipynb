{
 "cells": [
  {
   "cell_type": "markdown",
   "metadata": {},
   "source": [
    "#1"
   ]
  },
  {
   "cell_type": "code",
   "execution_count": 5,
   "metadata": {},
   "outputs": [],
   "source": [
    "#dictionary access and update value\n",
    "dict1 = {\n",
    "   \"student1\" : {\"name\": \"aryaa\",\n",
    "        \"roll no.\": 41,\n",
    "        \"marks\" : 60},\n",
    "    \"student2\": {\"name\":\"vicky\",\n",
    "        \"roll no.\":2,\n",
    "        \"marks\": 60 \n",
    "        }\n",
    "    }"
   ]
  },
  {
   "cell_type": "code",
   "execution_count": 6,
   "metadata": {},
   "outputs": [],
   "source": [
    "#dictionary access and update value\n",
    "dict1 = [{\"name\": \"aryaa\",\"roll no.\": 1,\"marks\" : 60},\n",
    "        {\"name\":\"vicky\",\"roll no.\":2,\"marks\": 60 },\n",
    "        {\"name\":\"aditi\",\"roll no.\":3,\"marks\": 60 },\n",
    "        {\"name\":\"shreyas\",\"roll no.\":4,\"marks\": 49},\n",
    "        {\"name\":\"sandip\",\"roll no.\":5,\"marks\": 30 }]"
   ]
  },
  {
   "cell_type": "code",
   "execution_count": 7,
   "metadata": {},
   "outputs": [
    {
     "name": "stdout",
     "output_type": "stream",
     "text": [
      "nooooo\n",
      "nooooo\n",
      "nooooo\n",
      "nooooo\n",
      "nooooo\n",
      "nooooo\n",
      "nooooo\n",
      "nooooo\n"
     ]
    }
   ],
   "source": [
    "\n",
    "\n",
    "input1=[{\"name\": \"aryaa\",\"roll no.\": 1,\"marks\" : 35},\n",
    "        {\"name\":\"vicky\",\"roll no.\":2,\"marks\": 57 }]\n",
    "\n",
    "\n",
    "for x in dict1:\n",
    "    for ii in input1:\n",
    "      if ii[\"name\"]==x[\"name\"]:\n",
    "        x[\"marks\"]=ii[\"marks\"]\n",
    "      else:\n",
    "         print(\"nooooo\")\n",
    "    # print(dict1)\n",
    "        \n",
    " "
   ]
  },
  {
   "cell_type": "code",
   "execution_count": 8,
   "metadata": {},
   "outputs": [
    {
     "data": {
      "text/plain": [
       "[{'name': 'aryaa', 'roll no.': 1, 'marks': 35},\n",
       " {'name': 'vicky', 'roll no.': 2, 'marks': 57},\n",
       " {'name': 'aditi', 'roll no.': 3, 'marks': 60},\n",
       " {'name': 'shreyas', 'roll no.': 4, 'marks': 49},\n",
       " {'name': 'sandip', 'roll no.': 5, 'marks': 30}]"
      ]
     },
     "execution_count": 8,
     "metadata": {},
     "output_type": "execute_result"
    }
   ],
   "source": [
    "dict1"
   ]
  },
  {
   "cell_type": "code",
   "execution_count": 150,
   "metadata": {},
   "outputs": [
    {
     "name": "stdout",
     "output_type": "stream",
     "text": [
      "not matched\n",
      "vicky\n"
     ]
    }
   ],
   "source": [
    "for x in dict1:\n",
    "    if x[\"name\"] == input1[\"name\"]:\n",
    "      print(x[\"name\"])\n",
    "    else:\n",
    "       print(\"not matched\")\n",
    "       \n",
    "    "
   ]
  },
  {
   "cell_type": "code",
   "execution_count": 9,
   "metadata": {},
   "outputs": [
    {
     "name": "stdout",
     "output_type": "stream",
     "text": [
      "{'name': 'vicky', 'roll no.': 2, 'marks': 57}\n",
      "{'name': 'aditi', 'roll no.': 3, 'marks': 60}\n"
     ]
    }
   ],
   "source": [
    "dict2 =[{'name': 'aryaa', 'roll no.': 1, 'marks': 35},\n",
    " {'name': 'vicky', 'roll no.': 2, 'marks': 57},\n",
    " {'name': 'aditi', 'roll no.': 3, 'marks': 60},\n",
    " {'name': 'shreyas', 'roll no.': 4, 'marks': 49},\n",
    " {'name': 'sandip', 'roll no.': 5, 'marks': 30}]\n",
    "for i in dict2:\n",
    "    if i[\"marks\"]>50:\n",
    "        print(i)\n"
   ]
  },
  {
   "cell_type": "code",
   "execution_count": 442,
   "metadata": {},
   "outputs": [],
   "source": [
    "dict3= [{'name': 'aryaa', 'roll no.': 1, 'marks': {\"phys\":67,\"chem\":78,\"bio\":88}},\n",
    "{'name': 'vicky', 'roll no.': 2, 'marks': {\"phys\":67,\"chem\":78,\"bio\":88}},\n",
    " {'name': 'aditi', 'roll no.': 3, 'marks': {\"phys\":67,\"chem\":78,\"bio\":88}},\n",
    " {'name': 'shreyas', 'roll no.': 4, 'marks':{\"phys\":67,\"chem\":78,\"bio\":88}},\n",
    " {'name': 'sandip', 'roll no.': 5, 'marks': {\"phys\":67,\"chem\":78,\"bio\":88}}]"
   ]
  },
  {
   "cell_type": "code",
   "execution_count": 467,
   "metadata": {},
   "outputs": [
    {
     "name": "stdout",
     "output_type": "stream",
     "text": [
      "[{'name': 'aryaa', 'roll no.': 1, 'marks': {'phys': 67, 'chem': 6870000000, 'bio': 88}}, {'name': 'vicky', 'roll no.': 2, 'marks': {'phys': 67, 'chem': 78, 'bio': 88, 'phy': 78}}, {'name': 'aditi', 'roll no.': 3, 'marks': {'phys': 67, 'chem': 78, 'bio': 88}}, {'name': 'shreyas', 'roll no.': 4, 'marks': {'phys': 67, 'chem': 78, 'bio': 88}}, {'name': 'sandip', 'roll no.': 5, 'marks': {'phys': 67, 'chem': 78, 'bio': 88, 'phy': 78}}]\n",
      "[{'name': 'aryaa', 'roll no.': 1, 'marks': {'phys': 67, 'chem': 6870000000, 'bio': 88}}, {'name': 'vicky', 'roll no.': 2, 'marks': {'phys': 67, 'chem': 78, 'bio': 88, 'phy': 78}}, {'name': 'aditi', 'roll no.': 3, 'marks': {'phys': 67, 'chem': 78, 'bio': 88}}, {'name': 'shreyas', 'roll no.': 4, 'marks': {'phys': 67, 'chem': 78, 'bio': 88}}, {'name': 'sandip', 'roll no.': 5, 'marks': {'phys': 67, 'chem': 78, 'bio': 88, 'phy': 78}}]\n"
     ]
    }
   ],
   "source": [
    "\n",
    "input1=[{\"name\": \"aryaa\",\"roll no.\": 1,\"marks\" : {\"chem\":6870000000}},\n",
    "        {\"name\":\"vicky\",\"roll no.\":2,\"marks\": {\"phy\":78}}]\n",
    "\n",
    "for k in dict3: #1st loop iterating through dict3\n",
    "    for j in input1: #2nd loop iterating thru input1\n",
    "       if k[\"name\"]==j[\"name\"]: #condition for checking if the elemnets belong in both the dictionaries\n",
    "           k[\"marks\"].update(j[\"marks\"])\n",
    "           print(dict3)\n",
    "\n",
    "          \n",
    "           # for ii,v in k.items(): #3rd loop for iterating thru keys and values of the elements inside k\n",
    "            # if type(v)==dict: #condition for checking type of value and only passing/comparing if its dict\n",
    "             #   v.update(j[\"marks\"]) #updating the value for nested dic(chem) with the input1\n",
    "              #  print(v)\n",
    "            \n",
    "\n",
    "\n",
    "            \n",
    "                          \n",
    "            \n",
    "            \n",
    "             \n",
    "             \n",
    "              "
   ]
  },
  {
   "cell_type": "code",
   "execution_count": 481,
   "metadata": {},
   "outputs": [
    {
     "name": "stdout",
     "output_type": "stream",
     "text": [
      "[{'name': 'aryaa', 'roll no.': 1, 'marks': {'phys': 67, 'chem': 6870000, 'bio': 88}}, {'name': 'vicky', 'roll no.': 2, 'marks': {'phys': 98, 'chem': 78, 'bio': 88}}, {'name': 'aditi', 'roll no.': 3, 'marks': {'phys': 67, 'chem': 78, 'bio': 88}}, {'name': 'shreyas', 'roll no.': 4, 'marks': {'phys': 67, 'chem': 78, 'bio': 88}}, {'name': 'sandip', 'roll no.': 5, 'marks': {'phys': 67, 'chem': 78, 'bio': 88}}]\n"
     ]
    }
   ],
   "source": [
    "dict3= [{'name': 'aryaa', 'roll no.': 1, 'marks': {\"phys\":67,\"chem\":78,\"bio\":88}},\n",
    "{'name': 'vicky', 'roll no.': 2, 'marks': {\"phys\":67,\"chem\":78,\"bio\":88}},\n",
    " {'name': 'aditi', 'roll no.': 3, 'marks': {\"phys\":67,\"chem\":78,\"bio\":88}},\n",
    " {'name': 'shreyas', 'roll no.': 4, 'marks':{\"phys\":67,\"chem\":78,\"bio\":88}},\n",
    " {'name': 'sandip', 'roll no.': 5, 'marks': {\"phys\":67,\"chem\":78,\"bio\":88}}]\n",
    "\n",
    "input1=[{\"name\": \"aryaa\",\"roll no.\": 1,\"marks\" : {\"chem\":6870000}},\n",
    "        {\"name\":\"vicky\",\"roll no.\":2,\"marks\": {\"phys\":98}}]\n",
    "     \n",
    "for k in dict3: #1st loop iterating through dict3\n",
    "    for j in input1: #2nd loop iterating thru input1\n",
    "       if k[\"name\"]==j[\"name\"]: #condition for checking if the elemnets belong in both the dictionaries\n",
    "          for ii,v in k.items(): #3rd loop for iterating thru keys and values of the elements inside k\n",
    "                      if type(v)==dict: #condition for checking type of value and only passing/comparing if its dict\n",
    "                        v.update(j[\"marks\"])\n",
    "print(dict3)\n",
    "\n",
    "              \n",
    "\n",
    "               #updating the value for nested dic(chem) with the input1\n",
    "\n",
    "\n",
    "\n"
   ]
  },
  {
   "cell_type": "code",
   "execution_count": null,
   "metadata": {},
   "outputs": [],
   "source": []
  },
  {
   "cell_type": "code",
   "execution_count": 385,
   "metadata": {},
   "outputs": [
    {
     "data": {
      "text/plain": [
       "12"
      ]
     },
     "execution_count": 385,
     "metadata": {},
     "output_type": "execute_result"
    }
   ],
   "source": [
    "for ii,v in k.items(): #3rd loop for iterating thru keys and values of the elements inside k\n",
    "            if type(v)==dict: #condition for checking type of value and only passing/comparing if its dict\n",
    "              v.update(j[\"marks\"])"
   ]
  },
  {
   "cell_type": "code",
   "execution_count": 378,
   "metadata": {},
   "outputs": [
    {
     "data": {
      "text/plain": [
       "[{'name': 'aryaa',\n",
       "  'roll no.': 1,\n",
       "  'marks': {'phys': 67, 'chem': 687, 'bio': 88}},\n",
       " {'name': 'vicky',\n",
       "  'roll no.': 2,\n",
       "  'marks': {'phys': 67, 'chem': 78, 'bio': 88}},\n",
       " {'name': 'aditi',\n",
       "  'roll no.': 3,\n",
       "  'marks': {'phys': 67, 'chem': 78, 'bio': 88}},\n",
       " {'name': 'shreyas',\n",
       "  'roll no.': 4,\n",
       "  'marks': {'phys': 67, 'chem': 78, 'bio': 88}},\n",
       " {'name': 'sandip',\n",
       "  'roll no.': 5,\n",
       "  'marks': {'phys': 67, 'chem': 78, 'bio': 88}}]"
      ]
     },
     "execution_count": 378,
     "metadata": {},
     "output_type": "execute_result"
    }
   ],
   "source": [
    "dict3"
   ]
  },
  {
   "cell_type": "code",
   "execution_count": 239,
   "metadata": {},
   "outputs": [
    {
     "name": "stdout",
     "output_type": "stream",
     "text": [
      "dict_items([('name', 'sandip'), ('roll no.', 5), ('marks', {'phys': 67, 'chem': 78, 'bio': 88})])\n"
     ]
    }
   ],
   "source": [
    "\n",
    "\n"
   ]
  },
  {
   "cell_type": "code",
   "execution_count": 43,
   "metadata": {},
   "outputs": [
    {
     "name": "stdout",
     "output_type": "stream",
     "text": [
      "{'name': 'sandip', 'roll no.': 5, 'marks': 67}\n"
     ]
    }
   ],
   "source": [
    "#for k in i:\n",
    "#  if \"marks\" in input1:\n",
    "  #      i.update({\"marks\":67})\n",
    "#print(i)"
   ]
  }
 ],
 "metadata": {
  "kernelspec": {
   "display_name": "Python 3",
   "language": "python",
   "name": "python3"
  },
  "language_info": {
   "codemirror_mode": {
    "name": "ipython",
    "version": 3
   },
   "file_extension": ".py",
   "mimetype": "text/x-python",
   "name": "python",
   "nbconvert_exporter": "python",
   "pygments_lexer": "ipython3",
   "version": "3.13.1"
  }
 },
 "nbformat": 4,
 "nbformat_minor": 2
}
