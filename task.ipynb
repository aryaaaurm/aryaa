{
 "cells": [
  {
   "cell_type": "code",
   "execution_count": 311,
   "metadata": {},
   "outputs": [
    {
     "name": "stdout",
     "output_type": "stream",
     "text": [
      "[1, 2, 3, 7, 9]\n"
     ]
    }
   ],
   "source": [
    "list1 = [1,3,9,2,7]\n",
    "for a in range(len(list1)):\n",
    "   for j in range(a+1,len(list)):\n",
    "    if list1[a]> list1[j]:\n",
    "       list1[a],list1[j]  = list1[j],list1[a]\n",
    "print(list1)"
   ]
  },
  {
   "cell_type": "code",
   "execution_count": 119,
   "metadata": {},
   "outputs": [
    {
     "name": "stdout",
     "output_type": "stream",
     "text": [
      "1\n"
     ]
    }
   ],
   "source": [
    "list1 = [9,3,2,9,2,7,1]\n",
    "l=len(list1)\n",
    "k=list1[0]\n",
    "for a in range(l):\n",
    "   if list1[a] <  k:\n",
    "      k=list1[a]\n",
    "print(k)     \n"
   ]
  },
  {
   "cell_type": "code",
   "execution_count": 124,
   "metadata": {},
   "outputs": [
    {
     "name": "stdout",
     "output_type": "stream",
     "text": [
      "aRyAa\n"
     ]
    }
   ],
   "source": [
    "st = \"ArYaA\"\n",
    "st1 = \"\"\n",
    "for char in st:\n",
    "    if char.islower():\n",
    "       st1+= char.upper()\n",
    "    else:\n",
    "       st1+= char.lower()\n",
    "print(st1)"
   ]
  },
  {
   "cell_type": "code",
   "execution_count": 201,
   "metadata": {},
   "outputs": [
    {
     "name": "stdout",
     "output_type": "stream",
     "text": [
      "[3, 2, 1, 5]\n",
      "[2, 2]\n"
     ]
    }
   ],
   "source": [
    "a = [3,2,1,2,5,2]\n",
    "l1=[]\n",
    "l2=[]\n",
    "# count = 0\n",
    "for x in a:\n",
    "    if x not in l1:\n",
    "        l1.append(x)\n",
    "    else:\n",
    "        l2.append(x)\n",
    "print(l1)\n",
    "print(l2)\n",
    "\n"
   ]
  },
  {
   "cell_type": "code",
   "execution_count": 196,
   "metadata": {},
   "outputs": [],
   "source": [
    "a = [3,2,1,2,5,2]\n",
    "l1=[]\n",
    "l2=[]\n",
    "# count = 0\n",
    "for x in a:\n",
    "    if a.count(x)>1:\n",
    "        l1.append(x)\n",
    "    else:\n",
    "        l2.append(x)\n",
    "              \n",
    "        # if x != a[x+1]:\n",
    "        #     print(x)\n",
    "    \n",
    "    # else:\n",
    "    #     l2.append(x)\n",
    "    # print(l1)\n",
    "#    print(count(x))\n",
    "        #  >count[1]:\n",
    "        # print(\"number is repeated\")"
   ]
  },
  {
   "cell_type": "code",
   "execution_count": 197,
   "metadata": {},
   "outputs": [
    {
     "data": {
      "text/plain": [
       "[3, 1, 5]"
      ]
     },
     "execution_count": 197,
     "metadata": {},
     "output_type": "execute_result"
    }
   ],
   "source": [
    "l2"
   ]
  },
  {
   "cell_type": "code",
   "execution_count": 198,
   "metadata": {},
   "outputs": [
    {
     "data": {
      "text/plain": [
       "[2, 2, 2]"
      ]
     },
     "execution_count": 198,
     "metadata": {},
     "output_type": "execute_result"
    }
   ],
   "source": [
    "l1"
   ]
  },
  {
   "cell_type": "code",
   "execution_count": 317,
   "metadata": {},
   "outputs": [
    {
     "name": "stdout",
     "output_type": "stream",
     "text": [
      "[1, 2, 3, 4, 5]\n"
     ]
    }
   ],
   "source": [
    "# list w unique numbers\n",
    "n1 = [1, 2, 2, 3, 4, 4, 5]\n",
    "n2 =[]\n",
    "n3 =[]\n",
    "for x in n1:\n",
    "    if x in n2:\n",
    "        n3.append(x)\n",
    "    else:\n",
    "        n2.append(x)\n",
    "print(n2)\n"
   ]
  },
  {
   "cell_type": "code",
   "execution_count": 227,
   "metadata": {},
   "outputs": [
    {
     "name": "stdout",
     "output_type": "stream",
     "text": [
      "[3, 4, 5]\n"
     ]
    }
   ],
   "source": [
    "# duplicates\n",
    "list1 = [1, 2, 3, 4, 5]\n",
    "list2 = [3, 4, 5, 6, 7]\n",
    "list3 =[]\n",
    "for x in list1:\n",
    "    if x in list2:\n",
    "        list3.append(x)\n",
    "print(list3)"
   ]
  },
  {
   "cell_type": "code",
   "execution_count": 247,
   "metadata": {},
   "outputs": [
    {
     "name": "stdout",
     "output_type": "stream",
     "text": [
      "[1, 2, 3, 4, 5, 6, 7]\n"
     ]
    }
   ],
   "source": [
    "# merge without duplicates\n",
    "list1 = [1, 2, 3, 4, 5]\n",
    "list2 = [4, 5, 6, 7]\n",
    "for x in list1:\n",
    "      if x not in list2:\n",
    "        list2.append(x)\n",
    "list2.sort()\n",
    "print(list2)"
   ]
  },
  {
   "cell_type": "code",
   "execution_count": 273,
   "metadata": {},
   "outputs": [
    {
     "name": "stdout",
     "output_type": "stream",
     "text": [
      "1\n",
      "99\n"
     ]
    }
   ],
   "source": [
    "# min and max of a list\n",
    "numbers = [10, 20, 4, 45, 99, 1]\n",
    "min_v = numbers[0]\n",
    "for x in range(len(numbers)):\n",
    "    if numbers[x] < min_v:\n",
    "       min_v=numbers[x]\n",
    "print(min_v)\n",
    "\n",
    "max_v = numbers[0]\n",
    "for x in range(len(numbers)):\n",
    "    if max_v < numbers[x]:\n",
    "        max_v=numbers[x]\n",
    "print(max_v)"
   ]
  },
  {
   "cell_type": "code",
   "execution_count": 279,
   "metadata": {},
   "outputs": [
    {
     "name": "stdout",
     "output_type": "stream",
     "text": [
      "[2, 3, 8, 10, 12, 45]\n"
     ]
    }
   ],
   "source": [
    "# sorting\n",
    "numbers = [10, 2, 45, 3, 8, 12]\n",
    "for i in range(len(numbers)):\n",
    "    for j in range(i+1, len(numbers)):\n",
    "       if numbers[i]>numbers [j]:\n",
    "           numbers[i], numbers[j]= numbers[j], numbers[i]\n",
    "print(numbers)"
   ]
  },
  {
   "cell_type": "code",
   "execution_count": 285,
   "metadata": {},
   "outputs": [
    {
     "name": "stdout",
     "output_type": "stream",
     "text": [
      "45\n"
     ]
    }
   ],
   "source": [
    "# second largest\n",
    "numbers = [10, 20, 4, 45, 99, 99]\n",
    "\n",
    "maxval = numbers[0]\n",
    "\n",
    "for x in range(len(numbers)):\n",
    "    for y in range(len(numbers)):\n",
    "      if numbers[x]>numbers[0] and numbers[y]<numbers[x]:\n",
    "        maxval = numbers[y]\n",
    "print(maxval)"
   ]
  },
  {
   "cell_type": "code",
   "execution_count": 292,
   "metadata": {},
   "outputs": [
    {
     "name": "stdout",
     "output_type": "stream",
     "text": [
      "{1: 1, 2: 2, 3: 3, 4: 1}\n"
     ]
    }
   ],
   "source": [
    "# count of numbers using dictionary\n",
    "numbers = [1, 2, 2, 3, 3, 3, 4]\n",
    "freq = {}\n",
    "for x in numbers:\n",
    "  if x in freq:\n",
    "      freq[x]+=1\n",
    "  else:\n",
    "     freq[x] = 1\n",
    "print(freq)"
   ]
  },
  {
   "cell_type": "code",
   "execution_count": 295,
   "metadata": {},
   "outputs": [
    {
     "name": "stdout",
     "output_type": "stream",
     "text": [
      "{1: 1, 2: 2, 3: 3, 4: 1, 'apple': 1, 'banana': 1, 'orange': 1}\n"
     ]
    }
   ],
   "source": [
    "# count of fruits\n",
    "words = [\"apple\", \"banana\", \"apple\", \"orange\", \"banana\", \"apple\"]\n",
    "c = {}\n",
    "for x in words:\n",
    "    if x not in freq:\n",
    "        freq[x] +=1\n",
    "    elif x in freq:\n",
    "        freq[x]=1\n",
    "print(freq)"
   ]
  },
  {
   "cell_type": "code",
   "execution_count": 310,
   "metadata": {},
   "outputs": [
    {
     "name": "stdout",
     "output_type": "stream",
     "text": [
      "[5, 4, 3, 2, 1]\n"
     ]
    }
   ],
   "source": [
    "# reverse of list without slicing or rev\n",
    "numbers = [1, 2, 3, 4, 5]\n",
    "rev = []\n",
    "for i in range(len(numbers)-1, -1, -1):\n",
    "    rev.append(numbers[i])\n",
    "print(rev)"
   ]
  },
  {
   "cell_type": "code",
   "execution_count": 1,
   "metadata": {},
   "outputs": [
    {
     "name": "stdout",
     "output_type": "stream",
     "text": [
      "{1: 1, 2: 2, 3: 3, 4: 1}\n"
     ]
    }
   ],
   "source": [
    "# most freq element in a list\n",
    "my_list = [1, 2, 3, 2, 3, 3, 4]\n",
    "freq ={}\n",
    "for x in my_list:\n",
    "        if x in freq:\n",
    "            freq[x] +=1\n",
    "        else:\n",
    "            freq[x]=1\n",
    "print(freq)\n"
   ]
  },
  {
   "cell_type": "code",
   "execution_count": 1,
   "metadata": {},
   "outputs": [
    {
     "name": "stdout",
     "output_type": "stream",
     "text": [
      " * Serving Flask app '__main__'\n",
      " * Debug mode: off\n"
     ]
    },
    {
     "name": "stderr",
     "output_type": "stream",
     "text": [
      "WARNING: This is a development server. Do not use it in a production deployment. Use a production WSGI server instead.\n",
      " * Running on http://127.0.0.1:5000\n",
      "Press CTRL+C to quit\n",
      "127.0.0.1 - - [03/Feb/2025 10:56:11] \"POST /create-user HTTP/1.1\" 201 -\n"
     ]
    },
    {
     "name": "stdout",
     "output_type": "stream",
     "text": [
      "<class 'dict'>\n"
     ]
    },
    {
     "ename": "",
     "evalue": "",
     "output_type": "error",
     "traceback": [
      "\u001b[1;31mThe Kernel crashed while executing code in the current cell or a previous cell. \n",
      "\u001b[1;31mPlease review the code in the cell(s) to identify a possible cause of the failure. \n",
      "\u001b[1;31mClick <a href='https://aka.ms/vscodeJupyterKernelCrash'>here</a> for more info. \n",
      "\u001b[1;31mView Jupyter <a href='command:jupyter.viewOutput'>log</a> for further details."
     ]
    }
   ],
   "source": [
    "from flask import Flask, request, jsonify\n",
    "\n",
    "app = Flask(__name__)\n",
    "\n",
    "@app.route(\"/\",methods=[\"GET\"])\n",
    "def welcome():\n",
    "    print(\"yuegfuigeiufgeufh\") \n",
    "    return \"welcome to my api\"\n",
    "\n",
    "@app.route(\"/create-user\", methods =[\"POST\"]) #another app route for the post method\n",
    "# this is  a mtehod the user uses to add data to the db or create a resource we can run get and post in this path\n",
    "def create_user(): #us used another function create_user for the post method\n",
    "    #can use if statement if there afre multiple (post) methods\n",
    "    data = request.get_json() #gives the body of the json file that was requested by the user(user data or input)\n",
    "    print(type(data))\n",
    "    return (data), 201 #returns the result in jsonfied format\n",
    "# print(\"yuegfuigeiufgeufh\")\n",
    "\n",
    "if __name__ == \"__main__\":\n",
    "    app.run()\n"
   ]
  },
  {
   "cell_type": "code",
   "execution_count": null,
   "metadata": {},
   "outputs": [],
   "source": []
  }
 ],
 "metadata": {
  "kernelspec": {
   "display_name": "Python 3",
   "language": "python",
   "name": "python3"
  },
  "language_info": {
   "codemirror_mode": {
    "name": "ipython",
    "version": 3
   },
   "file_extension": ".py",
   "mimetype": "text/x-python",
   "name": "python",
   "nbconvert_exporter": "python",
   "pygments_lexer": "ipython3",
   "version": "3.13.1"
  }
 },
 "nbformat": 4,
 "nbformat_minor": 2
}
